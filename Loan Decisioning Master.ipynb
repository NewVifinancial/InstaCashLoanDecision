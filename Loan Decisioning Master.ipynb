{
 "cells": [
  {
   "cell_type": "markdown",
   "metadata": {},
   "source": [
    "# Loan Decisioning"
   ]
  },
  {
   "cell_type": "code",
   "execution_count": 1,
   "metadata": {},
   "outputs": [],
   "source": [
    "import datetime\n",
    "from datetime import date,timedelta\n",
    "import numpy as np"
   ]
  },
  {
   "cell_type": "code",
   "execution_count": 2,
   "metadata": {},
   "outputs": [],
   "source": [
    "#functions\n",
    "\n",
    "def age(birthdate):\n",
    "    today = date.today()\n",
    "    currage = today.year - birthdate.year - ((today.month, today.day) < (birthdate.month, birthdate.day))\n",
    "    return currage\n",
    "\n",
    "def account_check(balance):\n",
    "    balance = int(balance)\n",
    "    if balance >= (3*userData[\"annual_income\"]):\n",
    "        userData[\"AccountBalanceCheck\"] = \"OverBalance\"\n",
    "    else:\n",
    "        userData[\"AccountBalanceCheck\"] = \"UnderBalance\"\n",
    "    return userData[\"AccountBalanceCheck\"]\n",
    "        \n",
    "\n",
    "def date_convert(dates):\n",
    "    daten=datetime.datetime.strptime(dates,\"%d/%m/%Y\").date()\n",
    "    return daten\n",
    "    \n",
    "def balance_over_time(account_balance):\n",
    "    monthbasis = list(reversed(range(22)))\n",
    "    print(\"Current Account Balance is: \", account_balance)\n",
    "    \n",
    "    for i in monthbasis[::7]:\n",
    "        #Account balance three weeks before next pay\n",
    "        print(i)\n",
    "        next_date = userData[\"next_pay_date\"] - timedelta(days=i)\n",
    "        print(next_date)\n",
    "        account_balance = account_balance - 100\n",
    "        userData[\"new_balance\"] = account_balance\n",
    "#     print(\"New account balance after one week is: \", account_balance)\n",
    "    \n",
    "    print(\"New account balance one week before next pay date is: GHS \", account_balance)\n"
   ]
  },
  {
   "cell_type": "markdown",
   "metadata": {
    "collapsed": true
   },
   "source": [
    "## Creating scores for data points\n",
    "\n",
    "The higher your score, the better your loan elligibility\n",
    "\n",
    "Points [Scale of 100] - 20 points shared for each question\n",
    "\n",
    "<br>Marital Status: <br>Yes - 5\n",
    "&nbsp;&nbsp;&nbsp;&nbsp;<br>No  - 15\n",
    "\n",
    "Financial Dependencies:\n",
    "<br>0  : 10\n",
    "                   <br>     1 - 2: 6\n",
    "                     <br>   2 - 5: 3\n",
    "                     <br>   5 + : 1\n",
    "\n",
    "Annual Income:  Tier 4 (< 1000Ghs) - 1 \n",
    "              <br>  Tier 3 (1000Ghs - 3000Ghs) - 3\n",
    "              <br>  Tier 2 (3000Ghs - 4000Ghs) - 6\n",
    "             <br>   Tier 1 (4000Ghs +) - 10\n",
    "        \n",
    "\n",
    "Account_balance check (3*annual income):\n",
    "<br>Over balance  - 15\n",
    "<br>Under balance - 5\n",
    "\n",
    "\n",
    "Balance over time:\n",
    "<br>If account is under 50 cedis - 5 \n",
    "Over 50 cedis - 15\n",
    "\n",
    "\n"
   ]
  },
  {
   "cell_type": "markdown",
   "metadata": {},
   "source": [
    "# With Loan Input"
   ]
  },
  {
   "cell_type": "code",
   "execution_count": 3,
   "metadata": {},
   "outputs": [],
   "source": [
    "masterData = []\n",
    "userData= {}"
   ]
  },
  {
   "cell_type": "code",
   "execution_count": 4,
   "metadata": {},
   "outputs": [
    {
     "name": "stdout",
     "output_type": "stream",
     "text": [
      "Answer this questionnare\n",
      "\n",
      "What is your first name: Otema\n",
      "What is your last name: yirenkyi\n",
      "What is your birthday? (in DD/MM/YYYY): 04/09/1997\n",
      "Are you married?\n",
      "\n",
      "A) Yes \n",
      "B) No\n",
      "no\n",
      "\n",
      "How many people depend on you financially? (Type number only) \n",
      "0\n",
      "What is your annual income (before tax)?\n",
      "2000\n",
      "\n",
      "Account Balance: \n",
      "50000\n",
      "Last Pay Date (in DD/MM/YYYY): \n",
      "01/02/2022\n",
      "\n",
      "Next Pay Date (in DD/MM/YYYY): \n",
      "01/03/2022\n",
      "Current Account Balance is:  50000\n",
      "21\n",
      "2022-02-08\n",
      "14\n",
      "2022-02-15\n",
      "7\n",
      "2022-02-22\n",
      "0\n",
      "2022-03-01\n",
      "New account balance one week before next pay date is: GHS  49600\n"
     ]
    }
   ],
   "source": [
    "# With Loan Input\n",
    "# easier to do 3x calculation\n",
    "\n",
    "print(\"Answer this questionnare\\n\")\n",
    "\n",
    "\n",
    "userData[\"firstname\"]=input(\"What is your first name: \").lower()\n",
    "\n",
    "userData[\"lastname\"]=input(\"What is your last name: \").lower()\n",
    "\n",
    "birthday=input(\"What is your birthday? (in DD/MM/YYYY): \")\n",
    "birthdate = date_convert((birthday))\n",
    "birthdate=datetime.datetime.strptime(birthday,\"%d/%m/%Y\").date()\n",
    "userData[\"age\"]=age((birthdate))\n",
    "\n",
    "userData[\"married\"] = input('Are you married?\\n\\nA) Yes \\nB) No\\n')\n",
    "\n",
    "userData[\"dependencies\"] = int(input('\\nHow many people depend on you financially? (Type number only) \\n'))\n",
    "\n",
    "userData[\"annual_income\"] = int(input('What is your annual income (before tax)?\\n'))\n",
    "\n",
    "userData[\"account_balance\"]=int(input(\"\\nAccount Balance: \\n\"))\n",
    "start_balance = userData[\"account_balance\"]\n",
    "\n",
    "last_credit_date=input(\"Last Pay Date (in DD/MM/YYYY): \\n\")\n",
    "userData[\"last_credit_date\"]=date_convert((last_credit_date))\n",
    "\n",
    "next_pay_date=input(\"\\nNext Pay Date (in DD/MM/YYYY): \\n\")\n",
    "userData[\"next_pay_date\"]=date_convert((next_pay_date))\n",
    "\n",
    "account_check(userData[\"account_balance\"])\n",
    "\n",
    "\n",
    "balance_over_time(userData[\"account_balance\"])\n",
    "\n",
    "\n",
    "\n",
    "user_copy = userData.copy()\n",
    "masterData.append(user_copy)"
   ]
  },
  {
   "cell_type": "markdown",
   "metadata": {},
   "source": [
    "# Loan Eligibility Categorization with Credit Scoring"
   ]
  },
  {
   "cell_type": "code",
   "execution_count": 5,
   "metadata": {},
   "outputs": [],
   "source": [
    "inelligible = []\n",
    "elligible = []"
   ]
  },
  {
   "cell_type": "code",
   "execution_count": 6,
   "metadata": {},
   "outputs": [
    {
     "name": "stdout",
     "output_type": "stream",
     "text": [
      "Inelligble customers []\n",
      "\n",
      "\n",
      "Elligble customers [{'firstname': 'otema', 'lastname': 'yirenkyi', 'age': 25, 'married': 'No', 'dependencies': 0, 'income_bracket': 'Tier 3', 'annual_income': 2000, 'account_balance': 30000, 'last_credit_date': datetime.date(2022, 2, 1), 'next_pay_date': datetime.date(2022, 3, 1), 'AccountBalanceCheck': 'OverBalance', 'new_balance': 29600}]\n"
     ]
    }
   ],
   "source": [
    "Credit_score = 0\n",
    "\n",
    "for index in range(len(masterData)):\n",
    "    \n",
    "    if masterData[index][\"married\"] == 'yes':\n",
    "        Credit_score += 5 \n",
    "    else:\n",
    "        Credit_score+= 15\n",
    "    \n",
    "    \n",
    "        \n",
    "    \n",
    "    \n",
    "    if masterData[index][\"new_balance\"] <= 50 or masterData[index][\"AccountBalanceCheck\"] == 'UnderBalance':\n",
    "        user_copy = masterData[index]\n",
    "#         print(user_copy)\n",
    "        inelligible.append(user_copy)\n",
    "    else:\n",
    "        elig_copy = masterData[index]\n",
    "#         print(user_copy)\n",
    "        elligible.append(elig_copy)\n",
    "print(\"Inelligble customers\", inelligible)\n",
    "print('\\n')\n",
    "print(\"Elligble customers\", elligible)"
   ]
  },
  {
   "cell_type": "markdown",
   "metadata": {},
   "source": [
    "# Loan Eligibility Categorization without Credit Scoring"
   ]
  },
  {
   "cell_type": "code",
   "execution_count": null,
   "metadata": {},
   "outputs": [],
   "source": [
    "inelligible = []\n",
    "elligible = []"
   ]
  },
  {
   "cell_type": "code",
   "execution_count": null,
   "metadata": {},
   "outputs": [],
   "source": [
    "for index in range(len(masterData)):\n",
    "    if masterData[index][\"new_balance\"] <= 50 or masterData[index][\"AccountBalanceCheck\"] == 'UnderBalance':\n",
    "        user_copy = masterData[index]\n",
    "#         print(user_copy)\n",
    "        inelligible.append(user_copy)\n",
    "    else:\n",
    "        elig_copy = masterData[index]\n",
    "#         print(user_copy)\n",
    "        elligible.append(elig_copy)\n",
    "print(\"Inelligble customers\", inelligible)\n",
    "print('\\n')\n",
    "print(\"Elligble customers\", elligible)"
   ]
  },
  {
   "cell_type": "markdown",
   "metadata": {},
   "source": [
    "# Threshold\n",
    "\n",
    "if account is below 50 one week before next pay, \n",
    "\n",
    "If userData[\"AccountBalanceCheck\"]=='UnderBalance'\n",
    "\n",
    "\n",
    "Not elliglbe for loan. pls re-check application and try again\n",
    "\n",
    "\n",
    "else\n",
    "\n",
    "\n",
    "if paycheck between x y z disburse a b c\n"
   ]
  },
  {
   "cell_type": "code",
   "execution_count": null,
   "metadata": {
    "collapsed": true
   },
   "outputs": [],
   "source": []
  },
  {
   "cell_type": "markdown",
   "metadata": {},
   "source": [
    "# With Loan Range"
   ]
  },
  {
   "cell_type": "code",
   "execution_count": 4,
   "metadata": {},
   "outputs": [
    {
     "name": "stdout",
     "output_type": "stream",
     "text": [
      "What is your first name: otema\n",
      "\n",
      "What is your last name: yirenkyi\n",
      "What is your birthday? (in DD/MM/YYYY): 04/09/1997\n",
      "\n",
      "Are you married?\n",
      "\n",
      "A) Yes \n",
      "B) No\n",
      "no\n",
      "\n",
      "How many people depend on you financially? (Type number only) \n",
      "0\n",
      "\n",
      "Select A, B, C or D\n",
      "What is your annual income(before tax)? \n",
      "A) < 1000Ghs \n",
      "B) 1000Ghs - 3000Ghs\n",
      "C) 3000Ghs - 4000Ghs \n",
      "D) > 4000Ghs\n",
      "b\n",
      "\n",
      "Account Balance: \n",
      "30000\n",
      "Last Pay Date (in DD/MM/YYYY): \n",
      "01/02/2022\n",
      "\n",
      "Next Pay Date (in DD/MM/YYYY): \n",
      "01/03/2022\n",
      "Current Account Balance is:  30000\n",
      "21\n",
      "2022-02-08\n",
      "14\n",
      "2022-02-15\n",
      "7\n",
      "2022-02-22\n",
      "0\n",
      "2022-03-01\n",
      "New account balance one week before next pay date is: GHS  29600\n"
     ]
    }
   ],
   "source": [
    "## With Loan Range\n",
    "\n",
    "\n",
    "userData= {}\n",
    "\n",
    "# print(\"Answer this questionnare\\n\")\n",
    "\n",
    "userData[\"firstname\"]=input(\"What is your first name: \").lower()\n",
    "\n",
    "userData[\"lastname\"]=input(\"\\nWhat is your last name: \").lower()\n",
    "\n",
    "birthday=input(\"What is your birthday? (in DD/MM/YYYY): \")\n",
    "birthdate = date_convert((birthday))\n",
    "birthdate=datetime.datetime.strptime(birthday,\"%d/%m/%Y\").date()\n",
    "userData[\"age\"]=age((birthdate))\n",
    "\n",
    "while True:\n",
    "    married = input('\\nAre you married?\\n\\nA) Yes \\nB) No\\n').lower()\n",
    "    if married == 'yes':\n",
    "        userData[\"married\"] = \"Yes\"\n",
    "        break\n",
    "    elif married == 'no':\n",
    "        userData[\"married\"] = \"No\"\n",
    "        break  \n",
    "    else:\n",
    "        print(f\"{married} is an incorrect entry.\\nPlease select correct output\")\n",
    "        userData[\"married\"]=married\n",
    "        continue\n",
    "\n",
    "userData[\"dependencies\"] = int(input('\\nHow many people depend on you financially? (Type number only) \\n'))\n",
    "\n",
    "\n",
    "while True:\n",
    "    annual_income=input(\"\\nSelect A, B, C or D\\nWhat is your annual income(before tax)? \\nA) < 1000Ghs \\nB) 1000Ghs - 3000Ghs\\nC) 3000Ghs - 4000Ghs \\nD) > 4000Ghs\\n\").upper()\n",
    "    if annual_income == 'A':\n",
    "#         userData[\"annual_income\"] = \"< 1000Ghs\"\n",
    "        userData[\"income_bracket\"] = \"Tier 4\"\n",
    "    #calculating the average of income range selected\n",
    "        userData[\"annual_income\"] = 500\n",
    "        break\n",
    "    elif annual_income == 'B':\n",
    "#         userData[\"annual_income\"] = \"1000Ghs - 3000Ghs\"\n",
    "        userData[\"income_bracket\"] = \"Tier 3\"\n",
    "     #calculating the average of income range selected\n",
    "        userData[\"annual_income\"] = 2000\n",
    " \n",
    "        break\n",
    "    if annual_income == 'C':\n",
    "#         userData[\"annual_income\"] = \"3000Ghs - 4000Ghs\"\n",
    "        userData[\"income_bracket\"] = \"Tier 2\"\n",
    "     #calculating the average of income range selected\n",
    "        userData[\"annual_income\"] = 3500\n",
    " \n",
    "        break\n",
    "    elif annual_income == 'D':\n",
    "#         userData[\"annual_income\"] = \"4000Ghs+\"\n",
    "        userData[\"income_bracket\"] = \"Tier 1\"\n",
    "     #calculating the average of income range selected\n",
    "        userData[\"annual_income\"] = 5000\n",
    " \n",
    "        break\n",
    "    else:\n",
    "        print(f\"{annual_income} is incorrect income.\\nPlease select correct income range\")\n",
    "        userData[\"annual_income\"]=annual_income\n",
    "        continue\n",
    "\n",
    "userData[\"account_balance\"]=int(input(\"\\nAccount Balance: \\n\"))\n",
    "start_balance = userData[\"account_balance\"]\n",
    "\n",
    "last_credit_date=input(\"Last Pay Date (in DD/MM/YYYY): \\n\")\n",
    "userData[\"last_credit_date\"]=date_convert((last_credit_date))\n",
    "\n",
    "next_pay_date=input(\"\\nNext Pay Date (in DD/MM/YYYY): \\n\")\n",
    "userData[\"next_pay_date\"]=date_convert((next_pay_date))\n",
    "\n",
    "account_check(userData[\"account_balance\"])\n",
    "\n",
    "\n",
    "balance_over_time(userData[\"account_balance\"])\n",
    "\n",
    "\n",
    "\n",
    "user_copy = userData.copy()\n",
    "masterData.append(user_copy)\n"
   ]
  },
  {
   "cell_type": "code",
   "execution_count": null,
   "metadata": {},
   "outputs": [],
   "source": []
  }
 ],
 "metadata": {
  "kernelspec": {
   "display_name": "Python 3",
   "language": "python",
   "name": "python3"
  },
  "language_info": {
   "codemirror_mode": {
    "name": "ipython",
    "version": 3
   },
   "file_extension": ".py",
   "mimetype": "text/x-python",
   "name": "python",
   "nbconvert_exporter": "python",
   "pygments_lexer": "ipython3",
   "version": "3.8.5"
  }
 },
 "nbformat": 4,
 "nbformat_minor": 4
}
